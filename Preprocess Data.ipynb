{
 "cells": [
  {
   "cell_type": "code",
   "execution_count": 1,
   "metadata": {},
   "outputs": [],
   "source": [
    "import pandas as pd\n",
    "import numpy as np"
   ]
  },
  {
   "cell_type": "code",
   "execution_count": 39,
   "metadata": {},
   "outputs": [],
   "source": [
    "# Load cleaned dataset\n",
    "data = pd.read_csv('./data/cleaned_data.csv')\n",
    "\n",
    "reviews = list(data['Reviews'].apply(lambda x: np.array(list(map(int,x[1:-1].split(','))))))\n",
    "labels = list(data['Labels'].apply(int))"
   ]
  },
  {
   "cell_type": "code",
   "execution_count": 40,
   "metadata": {},
   "outputs": [
    {
     "data": {
      "text/plain": [
       "array([14371,  4663, 19394, 40688, 32119, 65521, 44550, 64067, 70072,\n",
       "       19394,  2119,  3391, 43041, 54269, 19394, 55905, 10256, 43854,\n",
       "       34832, 19394, 67618, 45442,  4663,  5928, 64965, 19394, 38291,\n",
       "        1150, 56774, 34832, 46547, 26973,  1168, 51654, 22594, 70333,\n",
       "       11291, 48776, 53100, 59432,  4663, 26679, 63872, 29227, 33819,\n",
       "       26679, 19985,  5928, 48776,  2439, 24955, 54269, 46809,  6535,\n",
       "       20925, 31721, 32308, 26679, 30615, 67094, 70182,   471, 12371,\n",
       "       66911, 42406, 48776, 14828, 11994,  1764, 46547, 70182, 48776,\n",
       "       47970, 64187, 19957,  3521, 67616, 66010, 56693, 51839, 19394,\n",
       "       65972, 11221, 53371, 19394,  5671, 49821, 26679, 63872, 61974,\n",
       "       61747, 19347,  9086, 19265, 54269, 13164, 17489, 50145, 11291,\n",
       "        3344, 73189,  3020, 64313,  3344, 16234, 11838, 16921, 39397,\n",
       "       69032,  9644, 13925,  1764, 64128, 38718])"
      ]
     },
     "execution_count": 40,
     "metadata": {},
     "output_type": "execute_result"
    }
   ],
   "source": [
    "reviews[1]"
   ]
  },
  {
   "cell_type": "code",
   "execution_count": 41,
   "metadata": {},
   "outputs": [],
   "source": [
    "def pad_features(reviews_ints, seq_length):\n",
    "    ''' Return features of review_ints, where each review is padded with 0's \n",
    "        or truncated to the input seq_length.\n",
    "        :prams: reviews_ints: An array of tokenized words\n",
    "        :prams: seq_length: length of resultant reviews\n",
    "        :return: features: reviews_ints with seq_length feature\n",
    "    '''\n",
    "    \n",
    "    # getting the correct rows x cols shape\n",
    "    features = np.zeros((len(reviews_ints), seq_length), dtype=int)\n",
    "\n",
    "    # for each review, I grab that review and \n",
    "    for i, row in enumerate(reviews_ints):\n",
    "        features[i, -len(row):] = np.array(row)[:seq_length]\n",
    "    \n",
    "    return features"
   ]
  },
  {
   "cell_type": "code",
   "execution_count": 42,
   "metadata": {},
   "outputs": [],
   "source": [
    "seq_length = 2046\n",
    "\n",
    "#pad reviews\n",
    "features = pad_features(reviews, seq_length=seq_length)\n"
   ]
  },
  {
   "cell_type": "code",
   "execution_count": 43,
   "metadata": {},
   "outputs": [
    {
     "name": "stdout",
     "output_type": "stream",
     "text": [
      "Feature Shapes:\n",
      "Train set:      (12250, 2046)\n",
      "Validation set: (5250, 2046)\n",
      "Test set:       (7500, 2046) \n"
     ]
    }
   ],
   "source": [
    "#split dataset in train val and test\n",
    "from sklearn.model_selection import train_test_split\n",
    "\n",
    "X_train, X_test, y_train, y_test = train_test_split(features, labels, test_size=0.3)\n",
    "X_train, X_val, y_train, y_val = train_test_split(X_train, y_train, test_size=0.3)\n",
    "\n",
    "print(f\"\"\"Feature Shapes:\n",
    "Train set:      {X_train.shape}\n",
    "Validation set: {X_val.shape}\n",
    "Test set:       {X_test.shape} \"\"\")"
   ]
  },
  {
   "cell_type": "code",
   "execution_count": 70,
   "metadata": {},
   "outputs": [],
   "source": [
    "pd.DataFrame(y_train,columns=[\"y\"]).join(pd.DataFrame(X_train)).to_csv('data/train.csv', index=False)\n",
    "pd.DataFrame(y_test,columns=[\"y\"]).join(pd.DataFrame(X_test)).to_csv('data/test.csv', index=False)\n",
    "pd.DataFrame(y_val,columns=[\"y\"]).join(pd.DataFrame(X_val)).to_csv('data/val.csv', index=False)"
   ]
  }
 ],
 "metadata": {
  "kernelspec": {
   "display_name": "Python 3",
   "language": "python",
   "name": "python3"
  },
  "language_info": {
   "codemirror_mode": {
    "name": "ipython",
    "version": 3
   },
   "file_extension": ".py",
   "mimetype": "text/x-python",
   "name": "python",
   "nbconvert_exporter": "python",
   "pygments_lexer": "ipython3",
   "version": "3.7.4"
  }
 },
 "nbformat": 4,
 "nbformat_minor": 2
}
