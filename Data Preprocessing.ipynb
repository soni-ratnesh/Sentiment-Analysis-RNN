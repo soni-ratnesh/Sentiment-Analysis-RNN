{
 "cells": [
  {
   "cell_type": "code",
   "execution_count": 53,
   "metadata": {},
   "outputs": [],
   "source": [
    "# read data from text files\n",
    "with open('data/reviews.txt', 'r') as f:\n",
    "    reviews = f.read()\n",
    "with open('data/labels.txt', 'r') as f:\n",
    "    labels = f.read()"
   ]
  },
  {
   "cell_type": "code",
   "execution_count": 54,
   "metadata": {},
   "outputs": [
    {
     "name": "stdout",
     "output_type": "stream",
     "text": [
      "Reviews: bromwell high is a cartoon comedy . it ran at the same time as some other programs about school life  such as  teachers  . my   years in the teaching profession lead me to believe that bromwell high  s satire is much closer to reality than is  teachers  . the scramble to survive financially  the insightful students who can see right through their pathetic teachers  pomp  the pettiness of the whole situation  all remind me of the schools i knew and their students . when i saw the episode in which\n"
     ]
    }
   ],
   "source": [
    "print(f\"Reviews: {reviews[:500]}\")"
   ]
  },
  {
   "cell_type": "code",
   "execution_count": 55,
   "metadata": {},
   "outputs": [
    {
     "name": "stdout",
     "output_type": "stream",
     "text": [
      "Labels: positive\n",
      "negative\n",
      "positive\n",
      "negative\n",
      "positive\n",
      "negative\n",
      "positive\n",
      "negative\n",
      "positive\n",
      "negative\n",
      "positive\n",
      "n\n"
     ]
    }
   ],
   "source": [
    "print(f\"Labels: {labels[:100]}\")"
   ]
  },
  {
   "cell_type": "code",
   "execution_count": 56,
   "metadata": {},
   "outputs": [
    {
     "name": "stdout",
     "output_type": "stream",
     "text": [
      "\n",
      "Size of Review dataset : 33678267\n",
      "Size of labels dataset : 225000\n",
      "\n"
     ]
    }
   ],
   "source": [
    "print(f\"\"\"\n",
    "Size of Review dataset : {len(reviews)}\n",
    "Size of labels dataset : {len(labels)}\n",
    "\"\"\")"
   ]
  },
  {
   "cell_type": "markdown",
   "metadata": {},
   "source": [
    "### Data pre-processing"
   ]
  },
  {
   "cell_type": "markdown",
   "metadata": {},
   "source": [
    "From the example of the reviews data above. For the processing steps, we'll want to take:\n",
    ">* get rid of periods and extraneous punctuation.\n",
    "* Deal with `\\n`. \n",
    "* Then combined all the reviews back together.\n"
   ]
  },
  {
   "cell_type": "code",
   "execution_count": 57,
   "metadata": {},
   "outputs": [],
   "source": [
    "from string import punctuation\n",
    "\n",
    "#removing punctuation\n",
    "reviews = reviews.lower()\n",
    "text = ''.join([char for char in reviews if char not in punctuation])\n",
    "\n",
    "# split by new lines and spaces\n",
    "reviews_split = text.split('\\n')\n",
    "text = ' '.join(reviews_split)\n",
    "\n",
    "# create a list of words and labels\n",
    "words = text.split()\n",
    "labels = labels.split()"
   ]
  },
  {
   "cell_type": "code",
   "execution_count": 58,
   "metadata": {},
   "outputs": [
    {
     "data": {
      "text/plain": [
       "['bromwell', 'high', 'is', 'a', 'cartoon', 'comedy', 'it', 'ran', 'at', 'the']"
      ]
     },
     "execution_count": 58,
     "metadata": {},
     "output_type": "execute_result"
    }
   ],
   "source": [
    "words[:10]"
   ]
  },
  {
   "cell_type": "code",
   "execution_count": 59,
   "metadata": {},
   "outputs": [
    {
     "data": {
      "text/plain": [
       "['positive',\n",
       " 'negative',\n",
       " 'positive',\n",
       " 'negative',\n",
       " 'positive',\n",
       " 'negative',\n",
       " 'positive',\n",
       " 'negative',\n",
       " 'positive',\n",
       " 'negative']"
      ]
     },
     "execution_count": 59,
     "metadata": {},
     "output_type": "execute_result"
    }
   ],
   "source": [
    "labels[:10]"
   ]
  },
  {
   "cell_type": "code",
   "execution_count": 60,
   "metadata": {},
   "outputs": [],
   "source": [
    "int_vocab = dict(enumerate(set(words)))\n",
    "vocab_int = {int_vocab[i]: i for i in int_vocab}\n",
    "\n",
    "reviews_ints = []\n",
    "for review in reviews_split:\n",
    "    reviews_ints.append([vocab_int[word] for word in review.split()])"
   ]
  },
  {
   "cell_type": "code",
   "execution_count": 61,
   "metadata": {},
   "outputs": [
    {
     "name": "stdout",
     "output_type": "stream",
     "text": [
      "\n",
      "Unique words: 74072\n",
      "\n",
      "Tokenized review: [14371, 4663, 19394, 40688, 32119, 65521, 44550, 64067, 70072, 19394, 2119, 3391, 43041, 54269, 19394, 55905, 10256, 43854, 34832, 19394, 67618, 45442, 4663, 5928, 64965, 19394, 38291, 1150, 56774, 34832, 46547, 26973, 1168, 51654, 22594, 70333, 11291, 48776, 53100, 59432, 4663, 26679, 63872, 29227, 33819, 26679, 19985, 5928, 48776, 2439, 24955, 54269, 46809, 6535, 20925, 31721, 32308, 26679, 30615, 67094, 70182, 471, 12371, 66911, 42406, 48776, 14828, 11994, 1764, 46547, 70182, 48776, 47970, 64187, 19957, 3521, 67616, 66010, 56693, 51839, 19394, 65972, 11221, 53371, 19394, 5671, 49821, 26679, 63872, 61974, 61747, 19347, 9086, 19265, 54269, 13164, 17489, 50145, 11291, 3344, 73189, 3020, 64313, 3344, 16234, 11838, 16921, 39397, 69032, 9644, 13925, 1764, 64128, 38718]\n"
     ]
    }
   ],
   "source": [
    "print(f'''\n",
    "Unique words: {len((vocab_int))}\n",
    "\n",
    "Tokenized review: {reviews_ints[1]}''')"
   ]
  },
  {
   "cell_type": "code",
   "execution_count": 62,
   "metadata": {},
   "outputs": [
    {
     "name": "stdout",
     "output_type": "stream",
     "text": [
      "Zero-length reviews: 1\n"
     ]
    }
   ],
   "source": [
    "#reviews with zero length\n",
    "review_lengths = Counter([len(x) for x in reviews_ints])\n",
    "print(f\"Zero-length reviews: {review_lengths[0]}\")"
   ]
  },
  {
   "cell_type": "code",
   "execution_count": 63,
   "metadata": {},
   "outputs": [],
   "source": [
    "#remove zero length review\n",
    "zero_idx = [i for i, review in enumerate(reviews_ints) if len(review) != 0]\n",
    "\n",
    "# remove 0-length reviews and their labels\n",
    "reviews = [reviews_ints[i] for i in zero_idx]\n",
    "labels = np.array([labels[i] for i in zero_idx])"
   ]
  },
  {
   "cell_type": "code",
   "execution_count": 65,
   "metadata": {},
   "outputs": [],
   "source": [
    "# 1=positive, 0=negative label conversion\n",
    "labels = np.array([1 if label == 'positive' else 0 for label in labels])"
   ]
  },
  {
   "cell_type": "code",
   "execution_count": 80,
   "metadata": {},
   "outputs": [
    {
     "data": {
      "text/plain": [
       "[[293,\n",
       "  44651,\n",
       "  34832,\n",
       "  19394,\n",
       "  14792,\n",
       "  64965,\n",
       "  26679,\n",
       "  5566,\n",
       "  33651,\n",
       "  48776,\n",
       "  33194,\n",
       "  24955,\n",
       "  48329,\n",
       "  13164,\n",
       "  69006,\n",
       "  36304,\n",
       "  69477,\n",
       "  6515,\n",
       "  21367,\n",
       "  60877,\n",
       "  48329,\n",
       "  58915,\n",
       "  27567,\n",
       "  57428,\n",
       "  58321,\n",
       "  48776,\n",
       "  21656,\n",
       "  4398,\n",
       "  18942,\n",
       "  71370,\n",
       "  51839,\n",
       "  72395,\n",
       "  43854,\n",
       "  293,\n",
       "  44651,\n",
       "  63872,\n",
       "  37051,\n",
       "  34832,\n",
       "  47315,\n",
       "  13174,\n",
       "  51839,\n",
       "  29214,\n",
       "  61747,\n",
       "  34832,\n",
       "  58915,\n",
       "  48776,\n",
       "  61979,\n",
       "  51839,\n",
       "  14418,\n",
       "  59153,\n",
       "  48776,\n",
       "  67215,\n",
       "  38781,\n",
       "  32119,\n",
       "  13925,\n",
       "  29391,\n",
       "  49478,\n",
       "  11544,\n",
       "  67999,\n",
       "  50877,\n",
       "  58915,\n",
       "  9858,\n",
       "  48776,\n",
       "  40327,\n",
       "  4663,\n",
       "  48776,\n",
       "  2439,\n",
       "  31219,\n",
       "  39444,\n",
       "  11933,\n",
       "  71370,\n",
       "  4663,\n",
       "  48776,\n",
       "  31843,\n",
       "  20829,\n",
       "  37590,\n",
       "  39397,\n",
       "  67999,\n",
       "  38781,\n",
       "  21945,\n",
       "  20829,\n",
       "  44485,\n",
       "  48776,\n",
       "  11588,\n",
       "  58321,\n",
       "  5189,\n",
       "  19394,\n",
       "  11760,\n",
       "  2698,\n",
       "  52089,\n",
       "  51839,\n",
       "  22458,\n",
       "  55935,\n",
       "  48776,\n",
       "  6515,\n",
       "  20829,\n",
       "  62889,\n",
       "  50818,\n",
       "  33651,\n",
       "  44651,\n",
       "  19394,\n",
       "  62648,\n",
       "  50577,\n",
       "  25811,\n",
       "  20829,\n",
       "  23003,\n",
       "  56237,\n",
       "  51839,\n",
       "  2590,\n",
       "  12559,\n",
       "  4663,\n",
       "  13954,\n",
       "  58915,\n",
       "  11760,\n",
       "  28301,\n",
       "  51839,\n",
       "  293,\n",
       "  44651,\n",
       "  20829,\n",
       "  45168,\n",
       "  43854,\n",
       "  60761,\n",
       "  8348,\n",
       "  4663,\n",
       "  27567,\n",
       "  60123,\n",
       "  19265,\n",
       "  43854,\n",
       "  293,\n",
       "  44651,\n",
       "  34832,\n",
       "  29655,\n",
       "  44199,\n",
       "  62439,\n",
       "  19394,\n",
       "  14788,\n",
       "  43854,\n",
       "  26679,\n",
       "  28690,\n",
       "  39620]]"
      ]
     },
     "execution_count": 80,
     "metadata": {},
     "output_type": "execute_result"
    }
   ],
   "source": [
    "reviews[0:1]"
   ]
  },
  {
   "cell_type": "code",
   "execution_count": 68,
   "metadata": {},
   "outputs": [
    {
     "data": {
      "text/plain": [
       "array([1, 0, 1, ..., 0, 1, 0])"
      ]
     },
     "execution_count": 68,
     "metadata": {},
     "output_type": "execute_result"
    }
   ],
   "source": [
    "labels"
   ]
  },
  {
   "cell_type": "code",
   "execution_count": 79,
   "metadata": {},
   "outputs": [
    {
     "data": {
      "text/html": [
       "<div>\n",
       "<style scoped>\n",
       "    .dataframe tbody tr th:only-of-type {\n",
       "        vertical-align: middle;\n",
       "    }\n",
       "\n",
       "    .dataframe tbody tr th {\n",
       "        vertical-align: top;\n",
       "    }\n",
       "\n",
       "    .dataframe thead th {\n",
       "        text-align: right;\n",
       "    }\n",
       "</style>\n",
       "<table border=\"1\" class=\"dataframe\">\n",
       "  <thead>\n",
       "    <tr style=\"text-align: right;\">\n",
       "      <th></th>\n",
       "      <th>Reviews</th>\n",
       "      <th>Labels</th>\n",
       "    </tr>\n",
       "  </thead>\n",
       "  <tbody>\n",
       "    <tr>\n",
       "      <td>0</td>\n",
       "      <td>[293, 44651, 34832, 19394, 14792, 64965, 26679...</td>\n",
       "      <td>1</td>\n",
       "    </tr>\n",
       "    <tr>\n",
       "      <td>1</td>\n",
       "      <td>[14371, 4663, 19394, 40688, 32119, 65521, 4455...</td>\n",
       "      <td>0</td>\n",
       "    </tr>\n",
       "    <tr>\n",
       "      <td>2</td>\n",
       "      <td>[37789, 3671, 67463, 48329, 30329, 64971, 2756...</td>\n",
       "      <td>1</td>\n",
       "    </tr>\n",
       "    <tr>\n",
       "      <td>3</td>\n",
       "      <td>[40859, 3391, 48329, 19394, 6949, 8224, 15086,...</td>\n",
       "      <td>0</td>\n",
       "    </tr>\n",
       "    <tr>\n",
       "      <td>4</td>\n",
       "      <td>[50407, 11495, 70083, 11291, 55273, 11599, 178...</td>\n",
       "      <td>1</td>\n",
       "    </tr>\n",
       "  </tbody>\n",
       "</table>\n",
       "</div>"
      ],
      "text/plain": [
       "                                             Reviews Labels\n",
       "0  [293, 44651, 34832, 19394, 14792, 64965, 26679...      1\n",
       "1  [14371, 4663, 19394, 40688, 32119, 65521, 4455...      0\n",
       "2  [37789, 3671, 67463, 48329, 30329, 64971, 2756...      1\n",
       "3  [40859, 3391, 48329, 19394, 6949, 8224, 15086,...      0\n",
       "4  [50407, 11495, 70083, 11291, 55273, 11599, 178...      1"
      ]
     },
     "execution_count": 79,
     "metadata": {},
     "output_type": "execute_result"
    }
   ],
   "source": [
    "import pandas as pd\n",
    "import os\n",
    "\n",
    "data = pd.DataFrame((reviews,labels), index=[\"Reviews\", \"Labels\"]).T\n",
    "data.head()"
   ]
  },
  {
   "cell_type": "code",
   "execution_count": 77,
   "metadata": {},
   "outputs": [],
   "source": [
    "#save data as cleaned.csv\n",
    "data.to_csv('./data/cleaned_data.csv', index=False)"
   ]
  },
  {
   "cell_type": "code",
   "execution_count": null,
   "metadata": {},
   "outputs": [],
   "source": []
  }
 ],
 "metadata": {
  "kernelspec": {
   "display_name": "Python 3",
   "language": "python",
   "name": "python3"
  },
  "language_info": {
   "codemirror_mode": {
    "name": "ipython",
    "version": 3
   },
   "file_extension": ".py",
   "mimetype": "text/x-python",
   "name": "python",
   "nbconvert_exporter": "python",
   "pygments_lexer": "ipython3",
   "version": "3.7.4"
  }
 },
 "nbformat": 4,
 "nbformat_minor": 2
}
