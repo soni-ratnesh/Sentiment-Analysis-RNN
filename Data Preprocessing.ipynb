{
 "cells": [
  {
   "cell_type": "code",
   "execution_count": 1,
   "metadata": {},
   "outputs": [],
   "source": [
    "# read data from text files\n",
    "with open('data/reviews.txt', 'r') as f:\n",
    "    reviews = f.read()\n",
    "with open('data/labels.txt', 'r') as f:\n",
    "    labels = f.read()"
   ]
  },
  {
   "cell_type": "code",
   "execution_count": 4,
   "metadata": {},
   "outputs": [
    {
     "name": "stdout",
     "output_type": "stream",
     "text": [
      "Reviews: bromwell high is a cartoon comedy . it ran at the same time as some other programs about school life  such as  teachers  . my   years in the teaching profession lead me to believe that bromwell high  s satire is much closer to reality than is  teachers  . the scramble to survive financially  the insightful students who can see right through their pathetic teachers  pomp  the pettiness of the whole situation  all remind me of the schools i knew and their students . when i saw the episode in which\n"
     ]
    }
   ],
   "source": [
    "print(f\"Reviews: {reviews[:500]}\")"
   ]
  },
  {
   "cell_type": "code",
   "execution_count": 6,
   "metadata": {},
   "outputs": [
    {
     "name": "stdout",
     "output_type": "stream",
     "text": [
      "Labels: positive\n",
      "negative\n",
      "positive\n",
      "negative\n",
      "positive\n",
      "negative\n",
      "positive\n",
      "negative\n",
      "positive\n",
      "negative\n",
      "positive\n",
      "n\n"
     ]
    }
   ],
   "source": [
    "print(f\"Labels: {labels[:100]}\")"
   ]
  },
  {
   "cell_type": "code",
   "execution_count": 11,
   "metadata": {},
   "outputs": [
    {
     "name": "stdout",
     "output_type": "stream",
     "text": [
      "\n",
      "Size of Review dataset : 33678267\n",
      "Size of labels dataset : 225000\n",
      "\n"
     ]
    }
   ],
   "source": [
    "print(f\"\"\"\n",
    "Size of Review dataset : {len(reviews)}\n",
    "Size of labels dataset : {len(labels)}\n",
    "\"\"\")"
   ]
  },
  {
   "cell_type": "markdown",
   "metadata": {},
   "source": [
    "### Data pre-processing"
   ]
  },
  {
   "cell_type": "markdown",
   "metadata": {},
   "source": [
    "From the example of the reviews data above. For the processing steps, we'll want to take:\n",
    ">* get rid of periods and extraneous punctuation.\n",
    "* Deal with `\\n`. \n",
    "* Then combined all the reviews back together.\n"
   ]
  },
  {
   "cell_type": "code",
   "execution_count": 21,
   "metadata": {},
   "outputs": [],
   "source": [
    "from string import punctuation\n",
    "\n",
    "#removing punctuation\n",
    "reviews = reviews.lower()\n",
    "text = ''.join([char for char in reviews if char not in punctuation])\n",
    "\n",
    "# split by new lines and spaces\n",
    "reviews_split = text.split('\\n')\n",
    "text = ' '.join(reviews_split)\n",
    "\n",
    "# create a list of words and labels\n",
    "words = text.split()\n",
    "labels = labels.split()"
   ]
  },
  {
   "cell_type": "code",
   "execution_count": 22,
   "metadata": {},
   "outputs": [
    {
     "data": {
      "text/plain": [
       "['bromwell', 'high', 'is', 'a', 'cartoon', 'comedy', 'it', 'ran', 'at', 'the']"
      ]
     },
     "execution_count": 22,
     "metadata": {},
     "output_type": "execute_result"
    }
   ],
   "source": [
    "words[:10]"
   ]
  },
  {
   "cell_type": "code",
   "execution_count": 24,
   "metadata": {},
   "outputs": [
    {
     "data": {
      "text/plain": [
       "['positive',\n",
       " 'negative',\n",
       " 'positive',\n",
       " 'negative',\n",
       " 'positive',\n",
       " 'negative',\n",
       " 'positive',\n",
       " 'negative',\n",
       " 'positive',\n",
       " 'negative']"
      ]
     },
     "execution_count": 24,
     "metadata": {},
     "output_type": "execute_result"
    }
   ],
   "source": [
    "labels[:10]"
   ]
  },
  {
   "cell_type": "code",
   "execution_count": 30,
   "metadata": {},
   "outputs": [],
   "source": [
    "int_vocab = dict(enumerate(set(words)))\n",
    "vocab_int = {int_vocab[i]: i for i in int_vocab}\n",
    "\n",
    "reviews_ints = []\n",
    "for review in reviews_split:\n",
    "    reviews_ints.append([vocab_int[word] for word in review.split()])"
   ]
  },
  {
   "cell_type": "code",
   "execution_count": 40,
   "metadata": {},
   "outputs": [
    {
     "name": "stdout",
     "output_type": "stream",
     "text": [
      "\n",
      "Unique words: 74072\n",
      "\n",
      "Tokenized review: [14371, 4663, 19394, 40688, 32119, 65521, 44550, 64067, 70072, 19394, 2119, 3391, 43041, 54269, 19394, 55905, 10256, 43854, 34832, 19394, 67618, 45442, 4663, 5928, 64965, 19394, 38291, 1150, 56774, 34832, 46547, 26973, 1168, 51654, 22594, 70333, 11291, 48776, 53100, 59432, 4663, 26679, 63872, 29227, 33819, 26679, 19985, 5928, 48776, 2439, 24955, 54269, 46809, 6535, 20925, 31721, 32308, 26679, 30615, 67094, 70182, 471, 12371, 66911, 42406, 48776, 14828, 11994, 1764, 46547, 70182, 48776, 47970, 64187, 19957, 3521, 67616, 66010, 56693, 51839, 19394, 65972, 11221, 53371, 19394, 5671, 49821, 26679, 63872, 61974, 61747, 19347, 9086, 19265, 54269, 13164, 17489, 50145, 11291, 3344, 73189, 3020, 64313, 3344, 16234, 11838, 16921, 39397, 69032, 9644, 13925, 1764, 64128, 38718]\n"
     ]
    }
   ],
   "source": [
    "print(f'''\n",
    "Unique words: {len((vocab_int))}\n",
    "\n",
    "Tokenized review: {reviews_ints[1]}''')"
   ]
  },
  {
   "cell_type": "code",
   "execution_count": null,
   "metadata": {},
   "outputs": [],
   "source": []
  }
 ],
 "metadata": {
  "kernelspec": {
   "display_name": "Python 3",
   "language": "python",
   "name": "python3"
  },
  "language_info": {
   "codemirror_mode": {
    "name": "ipython",
    "version": 3
   },
   "file_extension": ".py",
   "mimetype": "text/x-python",
   "name": "python",
   "nbconvert_exporter": "python",
   "pygments_lexer": "ipython3",
   "version": "3.7.4"
  }
 },
 "nbformat": 4,
 "nbformat_minor": 2
}
